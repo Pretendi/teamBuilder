{
 "cells": [
  {
   "cell_type": "code",
   "execution_count": 9,
   "metadata": {},
   "outputs": [],
   "source": [
    "import pandas as pd"
   ]
  },
  {
   "cell_type": "code",
   "execution_count": 34,
   "metadata": {},
   "outputs": [],
   "source": [
    "languageDF = pd.read_excel('Frances_Material/MaximizingTeamDiversityData.xlsx', sheet_name='Language').drop('Languages', axis=1)\n",
    "leaderDF = pd.read_excel('Frances_Material/MaximizingTeamDiversityData.xlsx', sheet_name='Leadership').drop('Lead. Styles', axis=1)\n",
    "learningDF = pd.read_excel('Frances_Material/MaximizingTeamDiversityData.xlsx', sheet_name='Learning').drop('Learn. Styles', axis=1)\n",
    "likesDF = pd.read_excel('Frances_Material/MaximizingTeamDiversityData.xlsx', sheet_name='Likes')\n",
    "dislikesDF = pd.read_excel('Frances_Material/MaximizingTeamDiversityData.xlsx', sheet_name='Dislikes')\n"
   ]
  },
  {
   "cell_type": "code",
   "execution_count": 36,
   "metadata": {},
   "outputs": [],
   "source": [
    "studentDF = languageDF.join(leaderDF).join(learningDF).join(dislikesDF).drop(['Students'])"
   ]
  }
 ],
 "metadata": {
  "kernelspec": {
   "display_name": "Python [conda env:Anaconda]",
   "language": "python",
   "name": "conda-env-Anaconda-py"
  },
  "language_info": {
   "codemirror_mode": {
    "name": "ipython",
    "version": 3
   },
   "file_extension": ".py",
   "mimetype": "text/x-python",
   "name": "python",
   "nbconvert_exporter": "python",
   "pygments_lexer": "ipython3",
   "version": "3.6.4"
  }
 },
 "nbformat": 4,
 "nbformat_minor": 2
}
